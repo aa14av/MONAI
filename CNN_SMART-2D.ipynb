{
 "cells": [
  {
   "cell_type": "code",
   "execution_count": 1,
   "id": "4dc3febc-4968-44dc-abd3-c92ce75f9cd2",
   "metadata": {},
   "outputs": [],
   "source": [
    "import os, sys\n",
    "sys.path.append(\"/home/alexanderalbizu\")\n",
    "sys.path.append(\"/home/alexanderalbizu/.local/bin\")\n",
    "os.environ[\"WANDB_NOTEBOOK_NAME\"] = \"CNN.ipynb\"\n",
    "#!python setup.py develop \n",
    "# !pip install wandb\n",
    "# !pip install 'monai[all]'\n",
    "#!pip -q install vit_pytorch\n",
    "#!pip -q install linformer"
   ]
  },
  {
   "cell_type": "code",
   "execution_count": 2,
   "id": "5be71323-075d-4572-9b67-5e255af752de",
   "metadata": {},
   "outputs": [
    {
     "name": "stdout",
     "output_type": "stream",
     "text": [
      "MONAI version: 0.8.1+330.g2d149cef.dirty\n",
      "Numpy version: 1.20.1\n",
      "Pytorch version: 1.9.0+cu111\n",
      "MONAI flags: HAS_EXT = False, USE_COMPILED = False\n",
      "MONAI rev id: 2d149cef34866e3b44b746cd66d854da55598298\n",
      "MONAI __file__: /home/alexanderalbizu/MONAI/monai/__init__.py\n",
      "\n",
      "Optional dependencies:\n",
      "Pytorch Ignite version: 0.4.8\n",
      "Nibabel version: 3.2.1\n",
      "scikit-image version: 0.19.1\n",
      "Pillow version: 9.1.1\n",
      "Tensorboard version: 1.15.0+nv\n",
      "gdown version: 4.4.0\n",
      "TorchVision version: 0.10.0+cu111\n",
      "tqdm version: 4.53.0\n",
      "lmdb version: 1.2.1\n",
      "psutil version: 5.8.0\n",
      "pandas version: 1.1.4\n",
      "einops version: 0.4.1\n",
      "transformers version: 4.19.2\n",
      "mlflow version: 1.26.1\n",
      "pynrrd version: NOT INSTALLED or UNKNOWN VERSION.\n",
      "\n",
      "For details about installing the optional dependencies, please visit:\n",
      "    https://docs.monai.io/en/latest/installation.html#installing-the-recommended-dependencies\n",
      "\n"
     ]
    },
    {
     "name": "stderr",
     "output_type": "stream",
     "text": [
      "\u001b[34m\u001b[1mwandb\u001b[0m: Currently logged in as: \u001b[33maalbizu\u001b[0m. Use \u001b[1m`wandb login --relogin`\u001b[0m to force relogin\n"
     ]
    }
   ],
   "source": [
    "# Copyright 2020 MONAI Consortium\n",
    "# Licensed under the Apache License, Version 2.0 (the \"License\");\n",
    "# you may not use this file except in compliance with the License.\n",
    "# You may obtain a copy of the License at\n",
    "#     http://www.apache.org/licenses/LICENSE-2.0\n",
    "# Unless required by applicable law or agreed to in writing, software\n",
    "# distributed under the License is distributed on an \"AS IS\" BASIS,\n",
    "# WITHOUT WARRANTIES OR CONDITIONS OF ANY KIND, either express or implied.\n",
    "# See the License for the specific language governing permissions and\n",
    "# limitations under the License.\n",
    "\n",
    "import glob, math, os, shutil, tempfile, time, monai, torch, random\n",
    "\n",
    "import wandb as wb\n",
    "from enum import Enum\n",
    "import pandas as pd\n",
    "import numpy as np\n",
    "import nibabel as nib\n",
    "from torch import nn\n",
    "import matplotlib.pyplot as plt\n",
    "from torch.utils.tensorboard import SummaryWriter\n",
    "from monai.networks.utils import eval_mode\n",
    "from monai.config import print_config\n",
    "from monai.data import (\n",
    "    CacheDataset,\n",
    "    DataLoader,\n",
    "    ThreadDataLoader,\n",
    "    ImageDataset,\n",
    "    Dataset,\n",
    "    decollate_batch,\n",
    ")\n",
    "from sklearn.metrics import (\n",
    "    classification_report, confusion_matrix,\n",
    "    ConfusionMatrixDisplay\n",
    ")\n",
    "from vit_pytorch.efficient import ViT\n",
    "from linformer import Linformer\n",
    "from sklearn.model_selection import train_test_split\n",
    "from monai.inferers import sliding_window_inference\n",
    "from monai.losses import DiceLoss, DiceCELoss\n",
    "from monai.metrics import DiceMetric\n",
    "from monai.networks.layers import Act, Norm\n",
    "from monai.transforms import (\n",
    "    AddChannel,\n",
    "    AsChannelFirst,\n",
    "    Compose,\n",
    "    RandGaussianNoise,\n",
    "    Resize,\n",
    "    RemoveRepeatedChannel,\n",
    "    Orientation,\n",
    "    RandRotate90,\n",
    "    RandBiasField,\n",
    "    ScaleIntensity,\n",
    "    ToDevice,\n",
    "    EnsureType,\n",
    ")\n",
    "from monai.utils import set_determinism\n",
    "\n",
    "pin_memory = torch.cuda.is_available()\n",
    "device = torch.device(\"cuda\" if torch.cuda.is_available() else \"cpu\")\n",
    "\n",
    "print_config()\n",
    "wb.login(); # 7e5f63e5846f29b034d98806712ab047df76834d"
   ]
  },
  {
   "cell_type": "code",
   "execution_count": 3,
   "id": "6ad0f2d3-81f4-426d-a622-21e5ee651518",
   "metadata": {},
   "outputs": [
    {
     "name": "stdout",
     "output_type": "stream",
     "text": [
      "(1694,) (1694, 1)\n"
     ]
    },
    {
     "data": {
      "image/png": "[encoded data removed]",
      "text/plain": [
       "<Figure size 1440x1440 with 1 Axes>"
      ]
     },
     "metadata": {
      "needs_background": "light"
     },
     "output_type": "display_data"
    }
   ],
   "source": [
    "# Set data directory\n",
    "rootDir = '/blue/camctrp/working/Alejandro/StimBrain/'\n",
    "dims = np.array([182,218,182])\n",
    "batch_size=16\n",
    "im_size = (128,128)\n",
    "pat_size = (16,16)\n",
    "seed = 42\n",
    "subs = np.array([9009, 9015, 9022, 9040, 9044, 9045, 9051, 9021, 9023, 9031, 9032, 9047, 9048, 9054]) # Subjects\n",
    "beh = np.array([32, 26, 19, 20, 20, 17, 15, 2, 4, 6, 10, 16, 18, 7]) # Targeted Behavior Change\n",
    "lr = 1e-4\n",
    "wd = 0\n",
    "\n",
    "# start a typical PyTorch training\n",
    "val_interval = 1\n",
    "epoch_loss_values = [] # Pre-Allocate\n",
    "epoch_acc_values = [] # Pre-Allocate\n",
    "max_epochs = 50\n",
    "num_cores = int(os.environ[\"SLURM_CPUS_PER_TASK\"]);\n",
    "\n",
    "# Define Group Labels as above/below Median\n",
    "l = np.int64(np.zeros([len(beh),1]));\n",
    "l[beh >= np.median(beh)] = 1; # Responders\n",
    "l[beh < np.median(beh)] = 0; # Non Responders\n",
    "\n",
    "class Diagnosis(Enum):\n",
    "    NonResponder = 0\n",
    "    Responder = 1\n",
    "    \n",
    "images = []; butt = 0; \n",
    "lab = []\n",
    "for s in range(subs.shape[0]):\n",
    "    for n in range(dims[2]):\n",
    "        if n < 30 or n > 150: continue\n",
    "        images.append(os.path.join(rootDir,'FS6.0_sub-'+str(subs[s])+'_ses01','sub-'+str(subs[s])+'_n'+str(n+1)+'_Jxyz.png'));\n",
    "        lab.append(l[s]);\n",
    "        butt += 1\n",
    "images = np.asarray(images); lab = np.asarray(lab);\n",
    "print(images.shape,lab.shape)\n",
    "# Plot Labels\n",
    "plt.rcParams['figure.figsize'] = [20, 20]; plt.imshow([lab]); plt.axis('off'); plt.title('Class Labels');"
   ]
  },
  {
   "cell_type": "code",
   "execution_count": 4,
   "id": "e66a511e-d06d-4e7b-ab07-eea892aad617",
   "metadata": {},
   "outputs": [
    {
     "name": "stdout",
     "output_type": "stream",
     "text": [
      "train case split:  1372 : 1370\n",
      "valid case split:  76 : 77\n",
      "test case split:  85 : 85 \n",
      "\n",
      "/blue/camctrp/working/Alejandro/StimBrain/FS6.0_sub-9023_ses01/sub-9023_n63_Jxyz.png\n",
      "(182, 218, 3)\n"
     ]
    },
    {
     "data": {
      "image/png": "[encoded data removed]",
      "text/plain": [
       "<Figure size 360x360 with 1 Axes>"
      ]
     },
     "metadata": {
      "needs_background": "light"
     },
     "output_type": "display_data"
    }
   ],
   "source": [
    "# def seed_everything(seed):\n",
    "#     random.seed(seed)\n",
    "#     os.environ['PYTHONHASHSEED'] = str(seed)\n",
    "#     np.random.seed(seed)\n",
    "#     torch.manual_seed(seed)\n",
    "#     torch.cuda.manual_seed(seed)\n",
    "#     torch.cuda.manual_seed_all(seed)\n",
    "#     torch.backends.cudnn.deterministic = True\n",
    "    \n",
    "# seed_everything(seed)    \n",
    "\n",
    "nontest_list, test_list = train_test_split(images, \n",
    "                                          test_size=0.10,\n",
    "                                          stratify=lab,\n",
    "                                          random_state=seed)\n",
    "nontest_label, test_label = train_test_split(lab, \n",
    "                                          test_size=0.10,\n",
    "                                          stratify=lab,\n",
    "                                          random_state=seed) ###################### WIP REMOVE ALL IMAGES FROM TEST SET\n",
    "train_list, valid_list = train_test_split(nontest_list, \n",
    "                                          test_size=0.10,\n",
    "                                          stratify=nontest_label,\n",
    "                                          random_state=seed)\n",
    "train_label, valid_label = train_test_split(nontest_label, \n",
    "                                          test_size=0.10,\n",
    "                                          stratify=nontest_label,\n",
    "                                          random_state=seed)\n",
    "# Data Augmentation\n",
    "train_list = np.array(np.hstack([[train_list.T],[train_list.T]]))[0,:];\n",
    "train_label = np.array([np.int64(np.hstack([train_label[:,0],train_label[:,0]]))]).T;\n",
    "\n",
    "print('train case split: ',sum(train_label)[0],':',len(train_label)-sum(train_label)[0])\n",
    "print('valid case split: ',sum(valid_label)[0],':',len(valid_label)-sum(valid_label)[0])\n",
    "print('test case split: ',sum(test_label)[0],':',len(test_label)-sum(test_label)[0],'\\n')\n",
    "del nontest_list, nontest_label; # Save RAM\n",
    "\n",
    "# Plot Responder Mean\n",
    "plt.rcParams['figure.figsize'] = [5,5];\n",
    "print(images[1000])\n",
    "img = plt.imread(images[1000]); print(img.shape) # Load Each Electrode\n",
    "plt.imshow(img, vmin=0, vmax=1e-100); plt.axis('off'); # Plot"
   ]
  },
  {
   "cell_type": "code",
   "execution_count": 5,
   "id": "f77f5c69-f8a5-4dac-93b2-a23ed2ed4533",
   "metadata": {},
   "outputs": [
    {
     "name": "stdout",
     "output_type": "stream",
     "text": [
      "torch.Size([1, 3, 128, 128]) tensor([[0, 1]]) torch.Size([1, 2])\n"
     ]
    },
    {
     "data": {
      "image/png": "[encoded data removed]",
      "text/plain": [
       "<Figure size 360x360 with 1 Axes>"
      ]
     },
     "metadata": {
      "needs_background": "light"
     },
     "output_type": "display_data"
    }
   ],
   "source": [
    "# Represent labels in one-hot format for binary classifier training,\n",
    "# BCEWithLogitsLoss requires target to have same shape as input\n",
    "labels = nn.functional.one_hot(torch.as_tensor(lab.T)).long();\n",
    "train_lab = nn.functional.one_hot(torch.as_tensor(train_label.T)).long(); \n",
    "valid_lab = nn.functional.one_hot(torch.as_tensor(valid_label.T)).long();\n",
    "test_lab = nn.functional.one_hot(torch.as_tensor(test_label.T)).long();\n",
    "\n",
    "# Define transforms\n",
    "train_transforms = Compose([\n",
    "    AsChannelFirst(channel_dim=2),\n",
    "#     AddChannel(),\n",
    "    Resize(im_size),\n",
    "#     RandBiasField(),\n",
    "    RandGaussianNoise(prob=0.5), \n",
    "    ScaleIntensity(minv=0.0, maxv=1.0),\n",
    "    EnsureType(data_type='tensor')]);\n",
    "\n",
    "val_transforms = Compose([\n",
    "    AsChannelFirst(channel_dim=2),\n",
    "#     AddChannel(),\n",
    "    Resize(im_size),\n",
    "    ScaleIntensity(minv=0.0, maxv=1.0),\n",
    "    EnsureType(data_type='tensor')]);\n",
    "\n",
    "# Define nifti dataset, data loader\n",
    "check_ds = ImageDataset(image_files=train_list, labels=train_lab[0,:,:], transform=train_transforms);\n",
    "check_loader = DataLoader(check_ds, batch_size=1, num_workers=num_cores, pin_memory=pin_memory); \n",
    "\n",
    "im, label = monai.utils.misc.first(check_loader); print(im.shape, label, label.shape)\n",
    "plt.imshow(im[0,:,:,:].T, cmap=\"turbo\", origin=\"lower\"); plt.axis('off'); del check_ds, check_loader, im, label;\n",
    "\n",
    "# create a training data loader\n",
    "train_ds = ImageDataset(image_files=train_list, labels=train_lab[0,:,:], transform=train_transforms);\n",
    "train_loader = DataLoader(train_ds, batch_size=batch_size, shuffle=True, num_workers=num_cores, pin_memory=pin_memory);\n",
    "\n",
    "# create a validation data loader\n",
    "val_ds = ImageDataset(image_files=valid_list, labels=valid_lab[0,:,:], transform=val_transforms);\n",
    "val_loader = DataLoader(val_ds, batch_size=batch_size, num_workers=num_cores, pin_memory=pin_memory)"
   ]
  },
  {
   "cell_type": "code",
   "execution_count": 7,
   "id": "30a23c19-4373-4a33-828d-298fc5bded59",
   "metadata": {},
   "outputs": [
    {
     "data": {
      "text/html": [
       "wandb version 0.12.18 is available!  To upgrade, please run:\n",
       " $ pip install wandb --upgrade"
      ],
      "text/plain": [
       "<IPython.core.display.HTML object>"
      ]
     },
     "metadata": {},
     "output_type": "display_data"
    },
    {
     "data": {
      "text/html": [
       "Tracking run with wandb version 0.12.17"
      ],
      "text/plain": [
       "<IPython.core.display.HTML object>"
      ]
     },
     "metadata": {},
     "output_type": "display_data"
    },
    {
     "data": {
      "text/html": [
       "Run data is saved locally in <code>/home/alexanderalbizu/MONAI/wandb/run-20220611_181321-37b86m8t</code>"
      ],
      "text/plain": [
       "<IPython.core.display.HTML object>"
      ]
     },
     "metadata": {},
     "output_type": "display_data"
    },
    {
     "data": {
      "text/html": [
       "Syncing run <strong><a href=\"https://wandb.ai/aalbizu/SMART-CNN-2D/runs/37b86m8t\" target=\"_blank\">lyric-pond-1</a></strong> to <a href=\"https://wandb.ai/aalbizu/SMART-CNN-2D\" target=\"_blank\">Weights & Biases</a> (<a href=\"https://wandb.me/run\" target=\"_blank\">docs</a>)<br/>"
      ],
      "text/plain": [
       "<IPython.core.display.HTML object>"
      ]
     },
     "metadata": {},
     "output_type": "display_data"
    },
    {
     "name": "stderr",
     "output_type": "stream",
     "text": [
      "Named tensors and all their associated APIs are an experimental feature and subject to change. Please do not use them for anything important until they are released as stable. (Triggered internally at  /pytorch/c10/core/TensorImpl.h:1156.)\n"
     ]
    },
    {
     "name": "stdout",
     "output_type": "stream",
     "text": [
      "Epoch : 1 - train_loss : 0.4306 - train_acc: 0.7811 - val_loss : 0.4285 - val_acc: 0.8278\n",
      "\n",
      "model saved\n",
      "Epoch : 2 - train_loss : 0.2075 - train_acc: 0.9083 - val_loss : 0.1246 - val_acc: 0.9750\n",
      "\n",
      "model saved\n",
      "Epoch : 3 - train_loss : 0.1322 - train_acc: 0.9480 - val_loss : 0.0451 - val_acc: 0.9813\n",
      "\n",
      "model saved\n",
      "Epoch : 4 - train_loss : 0.1070 - train_acc: 0.9641 - val_loss : 0.0799 - val_acc: 0.9625\n",
      "\n",
      "Epoch : 5 - train_loss : 0.0912 - train_acc: 0.9689 - val_loss : 0.1680 - val_acc: 0.9139\n",
      "\n",
      "Epoch : 6 - train_loss : 0.0818 - train_acc: 0.9727 - val_loss : 0.0425 - val_acc: 0.9938\n",
      "\n",
      "model saved\n",
      "Epoch : 7 - train_loss : 0.0568 - train_acc: 0.9815 - val_loss : 0.0430 - val_acc: 0.9813\n",
      "\n",
      "Epoch : 8 - train_loss : 0.0628 - train_acc: 0.9807 - val_loss : 0.3425 - val_acc: 0.9000\n",
      "\n",
      "Epoch : 9 - train_loss : 0.0453 - train_acc: 0.9862 - val_loss : 0.0318 - val_acc: 0.9938\n",
      "\n",
      "model saved\n",
      "Epoch : 10 - train_loss : 0.0621 - train_acc: 0.9804 - val_loss : 0.0420 - val_acc: 0.9938\n",
      "\n",
      "Epoch : 11 - train_loss : 0.0321 - train_acc: 0.9906 - val_loss : 0.0545 - val_acc: 0.9688\n",
      "\n",
      "Epoch : 12 - train_loss : 0.0152 - train_acc: 0.9945 - val_loss : 0.0181 - val_acc: 0.9938\n",
      "\n",
      "model saved\n",
      "Epoch : 13 - train_loss : 0.0400 - train_acc: 0.9858 - val_loss : 0.2148 - val_acc: 0.9063\n",
      "\n",
      "Epoch : 14 - train_loss : 0.0241 - train_acc: 0.9935 - val_loss : 0.0333 - val_acc: 0.9875\n",
      "\n",
      "Epoch : 15 - train_loss : 0.0400 - train_acc: 0.9881 - val_loss : 0.0277 - val_acc: 0.9875\n",
      "\n",
      "Epoch : 16 - train_loss : 0.0597 - train_acc: 0.9789 - val_loss : 0.0517 - val_acc: 0.9764\n",
      "\n",
      "Epoch : 17 - train_loss : 0.0165 - train_acc: 0.9960 - val_loss : 0.0167 - val_acc: 0.9875\n",
      "\n",
      "model saved\n",
      "Epoch : 18 - train_loss : 0.0279 - train_acc: 0.9943 - val_loss : 0.1775 - val_acc: 0.9139\n",
      "\n",
      "Epoch : 19 - train_loss : 0.0582 - train_acc: 0.9804 - val_loss : 0.0045 - val_acc: 1.0000\n",
      "\n",
      "model saved\n",
      "Epoch : 20 - train_loss : 0.0068 - train_acc: 0.9975 - val_loss : 0.0030 - val_acc: 1.0000\n",
      "\n",
      "model saved\n",
      "Epoch : 21 - train_loss : 0.0128 - train_acc: 0.9964 - val_loss : 0.0183 - val_acc: 0.9938\n",
      "\n",
      "Epoch : 22 - train_loss : 0.0134 - train_acc: 0.9964 - val_loss : 0.0148 - val_acc: 0.9938\n",
      "\n",
      "Epoch : 23 - train_loss : 0.0049 - train_acc: 0.9996 - val_loss : 0.0019 - val_acc: 1.0000\n",
      "\n",
      "model saved\n",
      "Epoch : 24 - train_loss : 0.0007 - train_acc: 1.0000 - val_loss : 0.0012 - val_acc: 1.0000\n",
      "\n",
      "model saved\n",
      "Epoch : 25 - train_loss : 0.0047 - train_acc: 0.9982 - val_loss : 0.0011 - val_acc: 1.0000\n",
      "\n",
      "model saved\n",
      "Epoch : 26 - train_loss : 0.0589 - train_acc: 0.9815 - val_loss : 0.0817 - val_acc: 0.9639\n",
      "\n",
      "Epoch : 27 - train_loss : 0.0471 - train_acc: 0.9860 - val_loss : 0.0207 - val_acc: 0.9875\n",
      "\n",
      "Epoch : 28 - train_loss : 0.0240 - train_acc: 0.9935 - val_loss : 0.0248 - val_acc: 0.9938\n",
      "\n",
      "Epoch : 29 - train_loss : 0.0117 - train_acc: 0.9960 - val_loss : 0.0532 - val_acc: 0.9813\n",
      "\n",
      "Epoch : 30 - train_loss : 0.0103 - train_acc: 0.9964 - val_loss : 0.0040 - val_acc: 1.0000\n",
      "\n",
      "Epoch : 31 - train_loss : 0.0007 - train_acc: 1.0000 - val_loss : 0.0013 - val_acc: 1.0000\n",
      "\n",
      "Epoch : 32 - train_loss : 0.0004 - train_acc: 1.0000 - val_loss : 0.0022 - val_acc: 1.0000\n",
      "\n",
      "Epoch : 33 - train_loss : 0.0346 - train_acc: 0.9884 - val_loss : 0.0296 - val_acc: 0.9875\n",
      "\n",
      "Epoch : 34 - train_loss : 0.0186 - train_acc: 0.9945 - val_loss : 0.0055 - val_acc: 0.9938\n",
      "\n",
      "Epoch : 35 - train_loss : 0.0123 - train_acc: 0.9967 - val_loss : 0.0094 - val_acc: 1.0000\n",
      "\n",
      "Epoch : 36 - train_loss : 0.0081 - train_acc: 0.9976 - val_loss : 1.0586 - val_acc: 0.8090\n",
      "\n",
      "Epoch : 37 - train_loss : 0.0369 - train_acc: 0.9906 - val_loss : 0.0105 - val_acc: 0.9938\n",
      "\n",
      "Epoch : 38 - train_loss : 0.0044 - train_acc: 0.9993 - val_loss : 0.0029 - val_acc: 1.0000\n",
      "\n",
      "Epoch : 39 - train_loss : 0.0007 - train_acc: 1.0000 - val_loss : 0.0040 - val_acc: 1.0000\n",
      "\n",
      "Epoch : 40 - train_loss : 0.0004 - train_acc: 1.0000 - val_loss : 0.0038 - val_acc: 1.0000\n",
      "\n",
      "Epoch : 41 - train_loss : 0.0005 - train_acc: 1.0000 - val_loss : 0.0262 - val_acc: 0.9938\n",
      "\n",
      "Epoch : 42 - train_loss : 0.0184 - train_acc: 0.9949 - val_loss : 0.2184 - val_acc: 0.9313\n",
      "\n",
      "Epoch : 43 - train_loss : 0.0467 - train_acc: 0.9876 - val_loss : 0.0895 - val_acc: 0.9750\n",
      "\n",
      "Epoch : 44 - train_loss : 0.0120 - train_acc: 0.9976 - val_loss : 0.0228 - val_acc: 0.9938\n",
      "\n",
      "Epoch : 45 - train_loss : 0.0419 - train_acc: 0.9866 - val_loss : 0.1515 - val_acc: 0.9451\n",
      "\n",
      "Epoch : 46 - train_loss : 0.0066 - train_acc: 0.9989 - val_loss : 0.0245 - val_acc: 0.9875\n",
      "\n",
      "Epoch : 47 - train_loss : 0.0078 - train_acc: 0.9978 - val_loss : 0.0320 - val_acc: 0.9938\n",
      "\n",
      "Epoch : 48 - train_loss : 0.0005 - train_acc: 1.0000 - val_loss : 0.0275 - val_acc: 0.9938\n",
      "\n",
      "Epoch : 49 - train_loss : 0.0034 - train_acc: 0.9982 - val_loss : 0.0411 - val_acc: 0.9875\n",
      "\n",
      "Epoch : 50 - train_loss : 0.0451 - train_acc: 0.9862 - val_loss : 0.6097 - val_acc: 0.7667\n",
      "\n"
     ]
    },
    {
     "data": {
      "text/html": [
       "Waiting for W&B process to finish... <strong style=\"color:green\">(success).</strong>"
      ],
      "text/plain": [
       "<IPython.core.display.HTML object>"
      ]
     },
     "metadata": {},
     "output_type": "display_data"
    },
    {
     "data": {
      "text/html": [
       "<style>\n",
       "    table.wandb td:nth-child(1) { padding: 0 10px; text-align: left ; width: auto;} td:nth-child(2) {text-align: left ; width: 100%}\n",
       "    .wandb-row { display: flex; flex-direction: row; flex-wrap: wrap; justify-content: flex-start; width: 100% }\n",
       "    .wandb-col { display: flex; flex-direction: column; flex-basis: 100%; flex: 1; padding: 10px; }\n",
       "    </style>\n",
       "<div class=\"wandb-row\"><div class=\"wandb-col\"><h3>Run history:</h3><br/><table class=\"wandb\"><tr><td>train_acc</td><td>▅█▁█████████████▅███████████████████████</td></tr><tr><td>train_loss</td><td>▆▂▆▂▂▁▁▂▃▁▁▂▁▁▁▁█▁▁▁▁▁▁▁▁▁▁▁▁▁▁▁▁▁▁▂▁▁▁▁</td></tr><tr><td>val_acc</td><td>▆█▇███████▁██▇▆██████▇██████▄███▇██▆███▆</td></tr><tr><td>val_loss</td><td>▃▁▁▁▁▁▂▁▁▁▆▁▁▁▂▁▁▁▁▁▂▁▁▁▁▁▁▁█▁▁▁▃▂▁▃▁▁▁▇</td></tr></table><br/></div><div class=\"wandb-col\"><h3>Run summary:</h3><br/><table class=\"wandb\"><tr><td>train_acc</td><td>1.0</td></tr><tr><td>train_loss</td><td>0.0093</td></tr><tr><td>val_acc</td><td>0.66667</td></tr><tr><td>val_loss</td><td>0.68852</td></tr></table><br/></div></div>"
      ],
      "text/plain": [
       "<IPython.core.display.HTML object>"
      ]
     },
     "metadata": {},
     "output_type": "display_data"
    },
    {
     "data": {
      "text/html": [
       "Synced <strong style=\"color:#cdcd00\">lyric-pond-1</strong>: <a href=\"https://wandb.ai/aalbizu/SMART-CNN-2D/runs/37b86m8t\" target=\"_blank\">https://wandb.ai/aalbizu/SMART-CNN-2D/runs/37b86m8t</a><br/>Synced 6 W&B file(s), 0 media file(s), 2 artifact file(s) and 1 other file(s)"
      ],
      "text/plain": [
       "<IPython.core.display.HTML object>"
      ]
     },
     "metadata": {},
     "output_type": "display_data"
    },
    {
     "data": {
      "text/html": [
       "Find logs at: <code>./wandb/run-20220611_181321-37b86m8t/logs</code>"
      ],
      "text/plain": [
       "<IPython.core.display.HTML object>"
      ]
     },
     "metadata": {},
     "output_type": "display_data"
    }
   ],
   "source": [
    "def save_model(n_epoch, save_path, run_id):\n",
    "        lastmodel = f\"{save_path}-{run_id}.pth\"\n",
    "        torch.save(\n",
    "            {\n",
    "                \"model_state_dict\": model.state_dict(),\n",
    "                \"optimizer_state_dict\": optimizer.state_dict(),\n",
    "                \"best_valid_score\": best_valid_score,\n",
    "                \"n_epoch\": n_epoch,\n",
    "            },\n",
    "            lastmodel,\n",
    "        )\n",
    "\n",
    "# Create DenseNet121, CrossEntropyLoss and Adam optimizer\n",
    "model = monai.networks.nets.DenseNet264(spatial_dims=2, in_channels=3, out_channels=2).to(device)\n",
    "\n",
    "# Loss Function\n",
    "loss_fx = torch.nn.BCEWithLogitsLoss() \n",
    "\n",
    "# Optimizer\n",
    "optimizer = torch.optim.Adam(model.parameters(), lr=lr, weight_decay=wd)\n",
    "\n",
    "wb.init(project=\"SMART-CNN-2D\",\n",
    "           config={\n",
    "               \"batch_size\": batch_size,\n",
    "               \"n_channels\": 3,\n",
    "               \"n_epoch\": max_epochs,\n",
    "               \"image_size\": im_size,\n",
    "               \"learning_rate\": lr,\n",
    "               \"network\": \"DenseNet264\",\n",
    "               \"weight_decay\": wd,\n",
    "               \"dataset\": \"SB\",\n",
    "           })\n",
    "run_id = wb.run.name;\n",
    "wb.watch(model, log='all')\n",
    "\n",
    "scaler = torch.cuda.amp.GradScaler()\n",
    "best_valid_score = 99999; # Initialize Loss\n",
    "lastmodel = None\n",
    "for epoch in range(max_epochs):\n",
    "    epoch_loss = 0\n",
    "    epoch_accuracy = 0\n",
    "\n",
    "    for batch_data in train_loader:\n",
    "        inputs, label = batch_data[0].to(device), batch_data[1].to(device);\n",
    "        \n",
    "        # Evaluate Model\n",
    "        output = model(inputs);\n",
    "        loss = loss_fx(output, label.float())\n",
    "        \n",
    "        # Update Gradient\n",
    "        optimizer.zero_grad()\n",
    "        with torch.cuda.amp.autocast():\n",
    "            # Evaluate Model\n",
    "            output = model(inputs); epoch_prob = torch.nn.functional.softmax(output,dim=1)\n",
    "            loss = loss_fx(output, label.float())\n",
    "        scaler.scale(loss).backward()\n",
    "        scaler.step(optimizer)\n",
    "        scaler.update()\n",
    "        \n",
    "        # Accuracy\n",
    "        acc = (epoch_prob.argmax(dim=1) == label.argmax(dim=1)).float().mean()\n",
    "        epoch_accuracy += acc / len(train_loader)\n",
    "        epoch_acc_values.append(acc)\n",
    "        \n",
    "        # Loss\n",
    "        epoch_loss += loss / len(train_loader)\n",
    "        epoch_loss_values.append(epoch_loss)\n",
    "#         print(f\"train loss: {loss.item():.4f}\")\n",
    "        wb.log({'train_loss': loss, 'train_acc': acc})\n",
    "\n",
    "    if epoch % val_interval == 0: # Validation Interval\n",
    "        with eval_mode(model):\n",
    "            epoch_val_accuracy = 0; epoch_val_loss = 0;\n",
    "            for val_data in val_loader:\n",
    "                val_images, val_labels = val_data[0].to(device), val_data[1].to(device)\n",
    "\n",
    "                val_output = model(val_images); val_prob = torch.nn.functional.softmax(val_output,dim=1);\n",
    "                val_loss = loss_fx(val_output, val_labels.float())\n",
    "\n",
    "                val_acc = (val_prob.argmax(dim=1) == val_labels.argmax(dim=1)).float().mean()\n",
    "                epoch_val_accuracy += val_acc / len(val_loader)\n",
    "                epoch_val_loss += val_loss / len(val_loader)\n",
    "                wb.log({'val_loss': val_loss, 'val_acc': val_acc})\n",
    "        print(\n",
    "            f\"Epoch : {epoch+1} - train_loss : {epoch_loss:.4f} - train_acc: {epoch_accuracy:.4f} - val_loss : {epoch_val_loss:.4f} - val_acc: {epoch_val_accuracy:.4f}\\n\"\n",
    "        )\n",
    "        \n",
    "        # Save Best Model\n",
    "        if best_valid_score > epoch_val_loss:\n",
    "            print(\"model saved\")\n",
    "            save_model(epoch, \"Jxyz2D\", run_id)\n",
    "            best_valid_score = epoch_val_loss\n",
    "            \n",
    "#     else:    \n",
    "#         print(\n",
    "#             f\"Epoch : {epoch+1} - train_loss : {epoch_loss:.4f} - train_acc: {epoch_accuracy:.4f} \\n\"\n",
    "#         )\n",
    "        \n",
    "wb.run.log_code(root=os.path.join(os.getcwd(),\"CNN_SMART.ipynb\")); wb.finish()"
   ]
  },
  {
   "cell_type": "markdown",
   "id": "0f5ca1c7-aee8-4dce-b67b-a02e52e800c7",
   "metadata": {},
   "source": [
    "# Test Model"
   ]
  },
  {
   "cell_type": "code",
   "execution_count": 8,
   "id": "bb740cb7-036d-4a4b-99b4-81a69eaa6adb",
   "metadata": {},
   "outputs": [
    {
     "name": "stdout",
     "output_type": "stream",
     "text": [
      "              precision    recall  f1-score   support\n",
      "\n",
      "NonResponder       0.99      0.99      0.99        85\n",
      "   Responder       0.99      0.99      0.99        85\n",
      "\n",
      "    accuracy                           0.99       170\n",
      "   macro avg       0.99      0.99      0.99       170\n",
      "weighted avg       0.99      0.99      0.99       170\n",
      "\n"
     ]
    },
    {
     "data": {
      "text/plain": [
       "<sklearn.metrics._plot.confusion_matrix.ConfusionMatrixDisplay at 0x2b4b71ccb0a0>"
      ]
     },
     "execution_count": 8,
     "metadata": {},
     "output_type": "execute_result"
    },
    {
     "data": {
      "image/png": "[encoded data removed]",
      "text/plain": [
       "<Figure size 360x360 with 2 Axes>"
      ]
     },
     "metadata": {},
     "output_type": "display_data"
    }
   ],
   "source": [
    "modelfile = f'T1-lyric-pond-1.pth'; # HARDCODED\n",
    "checkpoint = torch.load(modelfile)\n",
    "\n",
    "# create a validation data loader\n",
    "test_ds = ImageDataset(image_files=test_list, labels=test_lab[0,:,:], transform=val_transforms)\n",
    "test_loader = DataLoader(test_ds, batch_size=batch_size, num_workers=num_cores, pin_memory=pin_memory)\n",
    "model.load_state_dict(checkpoint[\"model_state_dict\"])\n",
    "\n",
    "with eval_mode(model):\n",
    "    y_pred = torch.tensor([], dtype=torch.float32, device=device)\n",
    "    y = torch.tensor([], dtype=torch.long, device=device)\n",
    "    test_acc = 0\n",
    "    for test_data in test_loader:\n",
    "        test_images, test_labels = test_data[0].to(\n",
    "            device), test_data[1].to(device)\n",
    "\n",
    "        outputs = model(test_images); probs = torch.nn.functional.softmax(outputs,dim=1);\n",
    "        test_acc += (probs.argmax(dim=1) == test_labels.argmax(dim=1)).float().mean();\n",
    "        y_pred = torch.cat([y_pred, probs.argmax(dim=1)], dim=0)\n",
    "        y = torch.cat([y, test_labels.argmax(dim=1)], dim=0);\n",
    "    test_acc = test_acc / len(test_loader)\n",
    "\n",
    "print(classification_report(\n",
    "    y.cpu().numpy(),\n",
    "    y_pred.cpu().numpy(),\n",
    "    target_names=[d.name for d in Diagnosis]))\n",
    "\n",
    "cm = confusion_matrix(\n",
    "    y.cpu().numpy(),\n",
    "    y_pred.cpu().numpy(),\n",
    "    normalize='true')\n",
    "\n",
    "disp = ConfusionMatrixDisplay(\n",
    "    confusion_matrix=cm,\n",
    "    display_labels=[d.name for d in Diagnosis])\n",
    "\n",
    "disp.plot(ax=plt.subplots(1, 1, facecolor='white')[1])"
   ]
  },
  {
   "cell_type": "markdown",
   "id": "62af5665-e36f-4a28-8a57-722c31a90ae9",
   "metadata": {},
   "source": [
    "# Occulusion Sensitivity"
   ]
  },
  {
   "cell_type": "code",
   "execution_count": null,
   "id": "3b9c1e16-bda4-44b8-86a6-bd3b12459ab9",
   "metadata": {},
   "outputs": [],
   "source": [
    "# cam = monai.visualize.CAM(nn_module=model_3d, target_layers=\"class_layers.relu\", fc_layers=\"class_layers.out\")\n",
    "cam = monai.visualize.GradCAMpp(\n",
    "    nn_module=model, target_layers=\"class_layers.relu\"\n",
    ")\n",
    "# cam = monai.visualize.GradCAMpp(nn_module=model_3d, target_layers=\"class_layers.relu\")\n",
    "print(\n",
    "    \"original feature shape\",\n",
    "    cam.feature_map_size([1, 1] + list(im_size), device),\n",
    ")\n",
    "print(\"upsampled feature shape\", [1, 1] + list(im_size))\n",
    "\n",
    "occ_sens = monai.visualize.OcclusionSensitivity(\n",
    "    nn_module=model, mask_size=12, n_batch=1, stride=24\n",
    ")\n",
    "\n",
    "# For occlusion sensitivity, inference must be run many times. Hence, we can use a\n",
    "# bounding box to limit it to a 2D plane of interest (z=the_slice) where each of\n",
    "# the arguments are the min and max for each of the dimensions (in this case CHWD).\n",
    "the_slice = train_ds[0][0].shape[-1] // 2\n",
    "occ_sens_b_box = [-1, -1, -1, -1, -1, -1, the_slice, the_slice]\n",
    "\n",
    "train_transforms.set_random_state(42)\n",
    "n_examples = 3\n",
    "subplot_shape = [3, n_examples]\n",
    "fig, axes = plt.subplots(*subplot_shape, figsize=(25, 15), facecolor=\"white\")\n",
    "items = np.random.choice(len(train_ds), size=len(train_ds), replace=False)\n",
    "\n",
    "example = 0\n",
    "for item in items:\n",
    "\n",
    "    data = train_ds[\n",
    "        item\n",
    "    ]  # this fetches training data with random augmentations\n",
    "    image, label = data[0].to(device).unsqueeze(0), data[1][1]\n",
    "    y_pred = model(image); prob = torch.nn.functional.softmax(y_pred,dim=1);\n",
    "    pred_label = prob.argmax(dim=1);\n",
    "    \n",
    "    # Only display preMCI\n",
    "    if np.not_equal(label,1):\n",
    "        continue\n",
    "\n",
    "    img = image.detach().cpu().numpy()[..., the_slice]\n",
    "\n",
    "    name = \"actual: \"\n",
    "    name += \"Responder\" if np.equal(label,1) else \"Non-Responder\"\n",
    "    name += \"\\npred: \"\n",
    "    name += \"Responder\" if np.equal(pred_label.cpu().numpy(),1) else \"Non-Responder\"\n",
    "    name += f\"\\nResponder: {prob[0,1]:.3}\"\n",
    "    name += f\"\\nNon-Responder: {prob[0,0]:.3}\"\n",
    "\n",
    "    # run CAM\n",
    "    cam_result = cam(x=image, class_idx=None)\n",
    "    cam_result = cam_result[..., the_slice]\n",
    "\n",
    "    # run occlusion\n",
    "    occ_result, _ = occ_sens(x=image, b_box=occ_sens_b_box)\n",
    "    occ_result = occ_result[..., pred_label];\n",
    "\n",
    "    for row, (im, title) in enumerate(\n",
    "        zip(\n",
    "            [img, cam_result, occ_result],\n",
    "            [name, \"CAM\", \"Occ. Sens.\"],\n",
    "        )\n",
    "    ):\n",
    "        cmap = \"gray\" if np.equal(row,0) else \"jet\"\n",
    "        ax = axes[row, example]\n",
    "        if isinstance(im, torch.Tensor):\n",
    "            im = im.cpu().detach()\n",
    "        \n",
    "        im_show = ax.imshow(np.squeeze(im[0][0].T), cmap=cmap, origin='lower')\n",
    "\n",
    "        ax.set_title(title, fontsize=25)\n",
    "        ax.axis(\"off\")\n",
    "\n",
    "    example += 1\n",
    "    if example == n_examples:\n",
    "        break"
   ]
  },
  {
   "cell_type": "code",
   "execution_count": null,
   "id": "14b34187-2846-4af6-b465-e1287152815e",
   "metadata": {},
   "outputs": [],
   "source": []
  }
 ],
 "metadata": {
  "kernelspec": {
   "display_name": "NGC-PyTorch-1.9",
   "language": "python",
   "name": "ngc-pytorch-1.9"
  },
  "language_info": {
   "codemirror_mode": {
    "name": "ipython",
    "version": 3
   },
   "file_extension": ".py",
   "mimetype": "text/x-python",
   "name": "python",
   "nbconvert_exporter": "python",
   "pygments_lexer": "ipython3",
   "version": "3.8.8"
  }
 },
 "nbformat": 4,
 "nbformat_minor": 5
}
